{
 "cells": [
  {
   "cell_type": "markdown",
   "id": "77273778",
   "metadata": {},
   "source": [
    "# 📘 Notebook 4: From Clean to Dirty Data\n",
    "This notebook explores how real-world data deviates from ideal assumptions. We introduce noise, outliers, multicollinearity, and missing values — and see how they affect linear regression.\n",
    "\n",
    "**Goals:**\n",
    "- Learn how each type of imperfection alters model performance\n",
    "- Visualize their impact\n",
    "- Diagnose common data issues with Python\n",
    "- Develop intuition for robustness"
   ]
  },
  {
   "cell_type": "markdown",
   "id": "8595ecfb",
   "metadata": {},
   "source": [
    "## 🧪 Step 1: Start with Perfectly Clean Data"
   ]
  },
  {
   "cell_type": "code",
   "execution_count": null,
   "id": "d167c72e",
   "metadata": {},
   "outputs": [],
   "source": [
    "import numpy as np\n",
    "import pandas as pd\n",
    "import plotly.express as px\n",
    "\n",
    "np.random.seed(42)\n",
    "n = 100\n",
    "X = np.random.rand(n, 1) * 10\n",
    "y = 2 * X.flatten() + 5\n",
    "df = pd.DataFrame({'x': X.flatten(), 'y': y})\n",
    "px.scatter(df, x='x', y='y', title='Perfectly Linear Data')"
   ]
  },
  {
   "cell_type": "markdown",
   "id": "3e47a92c",
   "metadata": {},
   "source": [
    "## 😈 Step 2: Add Noise"
   ]
  },
  {
   "cell_type": "code",
   "execution_count": null,
   "id": "cdad82bd",
   "metadata": {},
   "outputs": [],
   "source": [
    "noise = np.random.normal(0, 2, size=n)\n",
    "df['y_noise'] = df['y'] + noise\n",
    "px.scatter(df, x='x', y='y_noise', title='Data with Noise')"
   ]
  },
  {
   "cell_type": "markdown",
   "id": "46993d44",
   "metadata": {},
   "source": [
    "## ❗ Step 3: Add Outliers"
   ]
  },
  {
   "cell_type": "code",
   "execution_count": null,
   "id": "e84fd4a9",
   "metadata": {},
   "outputs": [],
   "source": [
    "df_outliers = df.copy()\n",
    "df_outliers.loc[::10, 'y_noise'] += np.random.normal(20, 5, size=(n // 10 + 1))\n",
    "px.scatter(df_outliers, x='x', y='y_noise', title='Data with Outliers')"
   ]
  },
  {
   "cell_type": "markdown",
   "id": "2ea601f5",
   "metadata": {},
   "source": [
    "## 🧠 Step 4: Fit Regression and See Effect of Outliers"
   ]
  },
  {
   "cell_type": "code",
   "execution_count": null,
   "id": "748d299e",
   "metadata": {},
   "outputs": [],
   "source": [
    "from sklearn.linear_model import LinearRegression\n",
    "\n",
    "X_clean = df[['x']]\n",
    "y_clean = df['y_noise']\n",
    "model_clean = LinearRegression().fit(X_clean, y_clean)\n",
    "y_pred_clean = model_clean.predict(X_clean)\n",
    "\n",
    "X_outliers = df_outliers[['x']]\n",
    "y_outliers = df_outliers['y_noise']\n",
    "model_outliers = LinearRegression().fit(X_outliers, y_outliers)\n",
    "y_pred_outliers = model_outliers.predict(X_outliers)\n",
    "\n",
    "import plotly.graph_objects as go\n",
    "fig = go.Figure()\n",
    "fig.add_trace(go.Scatter(x=df_outliers['x'], y=y_outliers, mode='markers', name='Data with Outliers'))\n",
    "fig.add_trace(go.Scatter(x=df['x'], y=y_pred_clean, mode='lines', name='Fit (Clean)'))\n",
    "fig.add_trace(go.Scatter(x=df_outliers['x'], y=y_pred_outliers, mode='lines', name='Fit (Outliers)'))\n",
    "fig.update_layout(title='Effect of Outliers on Regression', xaxis_title='x', yaxis_title='y')\n",
    "fig.show()"
   ]
  },
  {
   "cell_type": "markdown",
   "id": "cf1763fb",
   "metadata": {},
   "source": [
    "## 🔄 Step 5: Simulate Multicollinearity"
   ]
  },
  {
   "cell_type": "code",
   "execution_count": null,
   "id": "d35e3e26",
   "metadata": {},
   "outputs": [],
   "source": [
    "# Create two highly correlated features\n",
    "x1 = np.random.rand(n)\n",
    "x2 = x1 * 0.95 + np.random.rand(n) * 0.05  # 95% correlated\n",
    "y_multi = 2 * x1 + 3 * x2 + np.random.normal(0, 0.1, n)\n",
    "\n",
    "df_multi = pd.DataFrame({'x1': x1, 'x2': x2, 'y': y_multi})\n",
    "model_multi = LinearRegression().fit(df_multi[['x1', 'x2']], df_multi['y'])\n",
    "model_multi.coef_, model_multi.intercept_"
   ]
  },
  {
   "cell_type": "markdown",
   "id": "ae0ea777",
   "metadata": {},
   "source": [
    "## ❓ What We Learn:\n",
    "- Outliers heavily distort the fit\n",
    "- Multicollinearity leads to unstable coefficients\n",
    "- Regression is sensitive to 'dirty' data and assumptions must be checked"
   ]
  },
  {
   "cell_type": "markdown",
   "id": "3e4d0ecc",
   "metadata": {},
   "source": [
    "## ✅ Next Up: Assumptions and Diagnostics"
   ]
  }
 ],
 "metadata": {},
 "nbformat": 4,
 "nbformat_minor": 5
}
