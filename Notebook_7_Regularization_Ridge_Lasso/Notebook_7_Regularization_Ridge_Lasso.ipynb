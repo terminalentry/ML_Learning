{
 "cells": [
  {
   "cell_type": "markdown",
   "id": "cd2e18a1",
   "metadata": {},
   "source": [
    "# Notebook 7: Regularization (Ridge and Lasso Regression)\n",
    "\n",
    "Regularization helps prevent overfitting by constraining model complexity. This notebook explores:\n",
    "- Why overfitting occurs\n",
    "- What Ridge (L2) and Lasso (L1) regression do\n",
    "- The mathematical formulation\n",
    "- Visualizations and practical fitting\n"
   ]
  },
  {
   "cell_type": "code",
   "execution_count": null,
   "id": "7d6a90dd",
   "metadata": {},
   "outputs": [],
   "source": [
    "import numpy as np\n",
    "import pandas as pd\n",
    "import matplotlib.pyplot as plt\n",
    "import plotly.graph_objects as go\n",
    "from sklearn.linear_model import LinearRegression, Ridge, Lasso\n",
    "from sklearn.metrics import mean_squared_error\n",
    "from sklearn.model_selection import train_test_split\n",
    "from sklearn.preprocessing import PolynomialFeatures, StandardScaler"
   ]
  },
  {
   "cell_type": "markdown",
   "id": "e53e803b",
   "metadata": {},
   "source": [
    "## Step 1: Generate a Noisy High-Degree Polynomial Dataset"
   ]
  },
  {
   "cell_type": "code",
   "execution_count": null,
   "id": "8f46119b",
   "metadata": {},
   "outputs": [],
   "source": [
    "# Generate dataset\n",
    "np.random.seed(1)\n",
    "X = np.linspace(0, 10, 100).reshape(-1, 1)\n",
    "y = 0.5 * X[:, 0]**3 - X[:, 0]**2 + 2 * X[:, 0] + 3 + np.random.normal(0, 25, 100)\n",
    "\n",
    "# Add polynomial features\n",
    "poly = PolynomialFeatures(degree=10)\n",
    "X_poly = poly.fit_transform(X)\n",
    "\n",
    "# Split\n",
    "X_train, X_test, y_train, y_test = train_test_split(X_poly, y, test_size=0.3, random_state=1)"
   ]
  },
  {
   "cell_type": "markdown",
   "id": "15104feb",
   "metadata": {},
   "source": [
    "## Step 2: Baseline Polynomial Regression (Overfitting)"
   ]
  },
  {
   "cell_type": "code",
   "execution_count": null,
   "id": "6db62114",
   "metadata": {},
   "outputs": [],
   "source": [
    "model = LinearRegression()\n",
    "model.fit(X_train, y_train)\n",
    "y_pred = model.predict(X_test)\n",
    "mse_baseline = mean_squared_error(y_test, y_pred)\n",
    "print(f\"Baseline MSE: {mse_baseline:.2f}\")"
   ]
  },
  {
   "cell_type": "markdown",
   "id": "e30ff3a0",
   "metadata": {},
   "source": [
    "## Step 3: Ridge Regression (L2 Regularization)\n",
    "\n",
    "**Mathematics**:\n",
    "\\[ \\min_\\beta \\| y - X\\beta \\|^2 + \\alpha \\|\\beta\\|^2 \\]\n",
    "\n",
    "This adds a penalty proportional to the square of coefficients."
   ]
  },
  {
   "cell_type": "code",
   "execution_count": null,
   "id": "e20017e1",
   "metadata": {},
   "outputs": [],
   "source": [
    "ridge = Ridge(alpha=10)\n",
    "ridge.fit(X_train, y_train)\n",
    "y_pred_ridge = ridge.predict(X_test)\n",
    "mse_ridge = mean_squared_error(y_test, y_pred_ridge)\n",
    "print(f\"Ridge MSE: {mse_ridge:.2f}\")"
   ]
  },
  {
   "cell_type": "markdown",
   "id": "e6eb0d1d",
   "metadata": {},
   "source": [
    "## Step 4: Lasso Regression (L1 Regularization)\n",
    "\n",
    "**Mathematics**:\n",
    "\\[ \\min_\\beta \\| y - X\\beta \\|^2 + \\alpha \\|\\beta\\|_1 \\]\n",
    "\n",
    "Lasso can shrink some coefficients to **exactly zero**, aiding interpretability."
   ]
  },
  {
   "cell_type": "code",
   "execution_count": null,
   "id": "324bc26b",
   "metadata": {},
   "outputs": [],
   "source": [
    "lasso = Lasso(alpha=1.0, max_iter=10000)\n",
    "lasso.fit(X_train, y_train)\n",
    "y_pred_lasso = lasso.predict(X_test)\n",
    "mse_lasso = mean_squared_error(y_test, y_pred_lasso)\n",
    "print(f\"Lasso MSE: {mse_lasso:.2f}\")"
   ]
  },
  {
   "cell_type": "markdown",
   "id": "3381e191",
   "metadata": {},
   "source": [
    "## Step 5: Compare Coefficients"
   ]
  },
  {
   "cell_type": "code",
   "execution_count": null,
   "id": "e95d401a",
   "metadata": {},
   "outputs": [],
   "source": [
    "coeffs = pd.DataFrame({\n",
    "    'Feature': [f'x^{i}' for i in range(X_poly.shape[1])],\n",
    "    'Linear': model.coef_,\n",
    "    'Ridge': ridge.coef_,\n",
    "    'Lasso': lasso.coef_\n",
    "})\n",
    "coeffs.set_index('Feature').plot(kind='bar', figsize=(14,6), title='Coefficient Comparison')\n",
    "plt.grid(True)\n",
    "plt.tight_layout()\n",
    "plt.show()"
   ]
  }
 ],
 "metadata": {},
 "nbformat": 4,
 "nbformat_minor": 5
}
