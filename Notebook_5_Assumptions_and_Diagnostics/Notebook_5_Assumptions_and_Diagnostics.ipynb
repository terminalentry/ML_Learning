{
 "cells": [
  {
   "cell_type": "markdown",
   "id": "ec39211d",
   "metadata": {},
   "source": [
    "# 📘 Notebook 5: Assumptions and Diagnostics\n",
    "We analyze the foundational assumptions of linear regression and use diagnostics to evaluate model validity.\n",
    "\n",
    "**Goal:** Learn how to verify assumptions with real data and interpret diagnostic plots."
   ]
  },
  {
   "cell_type": "markdown",
   "id": "ff0935d4",
   "metadata": {},
   "source": [
    "## 🧠 What Assumptions Does Linear Regression Make?\n",
    "1. Linearity (relationship between X and y is linear)\n",
    "2. Independence of errors\n",
    "3. Homoscedasticity (constant variance of errors)\n",
    "4. Normality of errors\n",
    "5. No multicollinearity (features are not linearly dependent)"
   ]
  },
  {
   "cell_type": "markdown",
   "id": "6b4dfa44",
   "metadata": {},
   "source": [
    "## 📊 Step 1: Simulate a Realistic Dataset"
   ]
  },
  {
   "cell_type": "code",
   "execution_count": null,
   "id": "4c9082b8",
   "metadata": {},
   "outputs": [],
   "source": [
    "import numpy as np\n",
    "import pandas as pd\n",
    "import plotly.express as px\n",
    "from sklearn.linear_model import LinearRegression\n",
    "\n",
    "np.random.seed(0)\n",
    "n = 150\n",
    "X = np.random.normal(0, 1, (n, 1))\n",
    "noise = np.random.normal(0, 1, n)\n",
    "y = 4 + 3 * X.flatten() + noise\n",
    "\n",
    "df = pd.DataFrame({'x': X.flatten(), 'y': y})\n",
    "px.scatter(df, x='x', y='y', title='Simulated Linear Data')"
   ]
  },
  {
   "cell_type": "markdown",
   "id": "7c379bfc",
   "metadata": {},
   "source": [
    "## 🧪 Step 2: Fit the Model"
   ]
  },
  {
   "cell_type": "code",
   "execution_count": null,
   "id": "085133cf",
   "metadata": {},
   "outputs": [],
   "source": [
    "model = LinearRegression().fit(X, y)\n",
    "y_pred = model.predict(X)\n",
    "residuals = y - y_pred\n",
    "df['residuals'] = residuals"
   ]
  },
  {
   "cell_type": "markdown",
   "id": "7e91ff19",
   "metadata": {},
   "source": [
    "## 📉 Residual Plot (Homoscedasticity Check)"
   ]
  },
  {
   "cell_type": "code",
   "execution_count": null,
   "id": "72df8175",
   "metadata": {},
   "outputs": [],
   "source": [
    "px.scatter(x=y_pred, y=residuals, labels={'x': 'Predicted', 'y': 'Residuals'},\n",
    "           title='Residuals vs Predicted')"
   ]
  },
  {
   "cell_type": "markdown",
   "id": "a9c6507f",
   "metadata": {},
   "source": [
    "### ✅ Interpretation:\n",
    "- Random scatter = constant variance = assumption likely satisfied\n",
    "- Funnel shape or patterns = violation (heteroscedasticity)"
   ]
  },
  {
   "cell_type": "markdown",
   "id": "16c8b15b",
   "metadata": {},
   "source": [
    "## 📈 Q-Q Plot (Normality of Residuals)"
   ]
  },
  {
   "cell_type": "code",
   "execution_count": null,
   "id": "3069ff8c",
   "metadata": {},
   "outputs": [],
   "source": [
    "import scipy.stats as stats\n",
    "import matplotlib.pyplot as plt\n",
    "import seaborn as sns\n",
    "\n",
    "plt.figure(figsize=(6,6))\n",
    "stats.probplot(residuals, dist='norm', plot=plt)\n",
    "plt.title('Q-Q Plot')\n",
    "plt.show()"
   ]
  },
  {
   "cell_type": "markdown",
   "id": "ab8c6f85",
   "metadata": {},
   "source": [
    "### ✅ Interpretation:\n",
    "- Straight diagonal = normally distributed residuals\n",
    "- Curved/tail deviations = non-normal errors"
   ]
  },
  {
   "cell_type": "markdown",
   "id": "aeb1ede1",
   "metadata": {},
   "source": [
    "## 📏 Multicollinearity (Variance Inflation Factor)"
   ]
  },
  {
   "cell_type": "code",
   "execution_count": null,
   "id": "35911753",
   "metadata": {},
   "outputs": [],
   "source": [
    "from statsmodels.stats.outliers_influence import variance_inflation_factor\n",
    "from statsmodels.tools.tools import add_constant\n",
    "\n",
    "X_vif = add_constant(np.hstack([X, X**2]))\n",
    "vif_data = pd.DataFrame()\n",
    "vif_data['feature'] = ['const', 'x1', 'x2']\n",
    "vif_data['VIF'] = [variance_inflation_factor(X_vif, i) for i in range(X_vif.shape[1])]\n",
    "vif_data"
   ]
  },
  {
   "cell_type": "markdown",
   "id": "1cbc051d",
   "metadata": {},
   "source": [
    "## ✅ Summary\n",
    "- We learned to diagnose violations in model assumptions\n",
    "- Each assumption has a visual or numerical test\n",
    "- In real data, multiple assumptions may be weakly or strongly violated"
   ]
  },
  {
   "cell_type": "markdown",
   "id": "fc0a797e",
   "metadata": {},
   "source": [
    "➡️ Next: Feature Transformations and Polynomial Regression"
   ]
  }
 ],
 "metadata": {},
 "nbformat": 4,
 "nbformat_minor": 5
}
