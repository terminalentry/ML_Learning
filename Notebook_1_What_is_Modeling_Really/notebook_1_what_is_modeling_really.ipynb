{
 "cells": [
  {
   "cell_type": "markdown",
   "id": "776bc3ee",
   "metadata": {},
   "source": [
    "# 📘 Notebook 1: What Is Modeling, Really?"
   ]
  },
  {
   "cell_type": "markdown",
   "id": "9727785a",
   "metadata": {},
   "source": [
    "### 🎯 Learning Objectives\n",
    "- Understand modeling as a method of approximating real-world processes\n",
    "- Learn what a 'Data Generating Process' means (without using abbreviations)\n",
    "- Visualize the difference between reality and a model's internal representation\n",
    "- Simulate a process and compare linear vs non-linear approximations\n",
    "- Question the philosophical and statistical assumptions made during modeling"
   ]
  },
  {
   "cell_type": "markdown",
   "id": "e06c9e6c",
   "metadata": {},
   "source": [
    "## 1. What Is a Model?\n",
    "A model is a **structured simplification** of something we do not fully understand.\n",
    "In statistical learning, a model is a function that maps input values to predictions about output values.\n",
    "\n",
    "**Key questions:**\n",
    "- What assumptions are we making about reality when we model?\n",
    "- Can a model be useful even if it is wrong?\n",
    "- What are we giving up in exchange for tractability?"
   ]
  },
  {
   "cell_type": "markdown",
   "id": "00828486",
   "metadata": {},
   "source": [
    "## 2. Simulate a Simple Real-World Process\n",
    "Let’s simulate a true, known process. We will then try to model it and measure how much we lose in the simplification."
   ]
  },
  {
   "cell_type": "code",
   "execution_count": 1,
   "id": "3febcdfb",
   "metadata": {},
   "outputs": [
    {
     "data": {
      "application/vnd.plotly.v1+json": {
       "config": {
        "plotlyServerURL": "https://plot.ly"
       },
       "data": [
        {
         "hovertemplate": "x=%{x}<br>y=%{y}<extra></extra>",
         "legendgroup": "",
         "marker": {
          "color": "#636efa",
          "symbol": "circle"
         },
         "mode": "markers",
         "name": "",
         "orientation": "v",
         "showlegend": false,
         "type": "scatter",
         "x": {
          "bdata": "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",
          "dtype": "f8"
         },
         "xaxis": "x",
         "y": {
          "bdata": "hElFUVF+OUAt9446p+Q3QCKGMi00IzlAM6hdLjiQOkDCqHCoFLo2QBU6iIlTaDZA4WNBYLK3OUB5HKMvs8c3QFZdtvO7/jRALUrq+ey1NkA+fQLXl2Q0QBgPqObVFTRAtOQCWUwzNUAFpt33opcwQOT1z02ZrDBAAoZZnBW1MkC2WAi4UoQxQOsBmghn4jNABoqAseknMUAqDHRnd7svQDcat130VzVA5q+nTlqvMUAoIAh0of8xQPjbE1fHfC1AKhqjh6M8MEB4xDUJW0gxQEP8sG9O/ixAxafshmpKMUDGRb1HpykuQBzvv9b/4y5ADO+KyO0lLUAiGY9LyzszQMslS6M1gy5Aytf5nYHZKUBz4LWZ7XEwQFAQAmjKPShATcGLTJJ9LUBqlGBfJlokQOmnT8VXayZA+kHx3PAQLEDTWOcC5MgtQPDOppzsEitAkxBBayh9KUCkvQ9VyVAoQFxNiJYKLiNAydwVRkHLJUBBAMa9Z2omQNwYInW2EyxA4uxG65nRKEDdTop9l/wfQLKJJ/jR8idAGB7d6Fa5JEAyhrD0mCwjQL5cs82e8ydAibMC3+ZBKUCAoFt8FH4oQGyG3hHHDCFABtYAHpbQIkBrYGfY6QYlQBSfbrmIQidAlPWEhywaIUDePSYDZ/EhQBj9CAFk3RtAriE6p0GAGkC4IGSV7fckQKJ0GQ/y1CZAJlPIXhHQIEDW4Yt/eNAkQHfR7IWc8yFAkN2l3hBFG0AU65zBcGAhQFMEffHzzSVAs2q5KrF4HkANTKjZpl4lQOICs5GiegFAGfl4kh/hIUCMO/Z+fWAdQF6JnfTeyxlASiv3EvpwHECcfo/vOqwGQJ9EU5UqBRlANiHVl5wvHUCGNpFQetsiQL+e+FaWURVAeEopTceUEkCICUkeVqEUQN0vuBnVkh9A1pRvYFF/GkA92i5600ETQLPDGI16PRtAqtBIT3KPF0DnJ2WziDEeQBqXPbTafxBAMq4HRE8tE0ATCnjM0VoSQIjTfpa7+QJAyhVnEa5HF0DIssl3vbkWQIlACLo8ahRALvg3/Mk+EkBGI6tClx0BQEqi+ngJSRBA78Er0nmwEECe8D1V15sJQJWwr9kXvBFAXxWP8x0SFkDpUbq0ROAgQA/9zpf25BNAwSh0zXtnFEA+tMy58JoRQJSPGwKFv+U/QlCf4kC8EUB7haUhq1ESQIBxCtzLuCJA7gmnGEQcEEBjFxlr7vsTQGvqPNg0OhFAHTa4zSMzAEBMP8nxCowaQADSNO3PYhdAkQQMvv2sF0Dq8HPM2x4EQEo9Cp53jhxAEL23wCSE+D8qUDZqLw8WQNVGehq2dSFA7j5wFjkHA0AyZ8zTNewJQEfUKR5qWhJAhP+guuU0C0BULRQ4Wz/1P6mbzZ/WXBJAxKVwHOHYAkBwSrwoXdQVQLzlE7BVoQVAgbvleOi1HkBQMMo2p2QIQIzQi0ltDBBA/Kd44HZOGUDzfnbBeEUCQJub1mhX/xRA+q/aM0jXHUBI7dn0rvb6PwqP3BxDThVAF1O0CIAlFkBvm0WuWpIaQGT22CA9XQVAYlOK+jWSBEBPNsG7ok4ZQLuNLvEDzRdANiVRKq+7F0DUXCOo4NAYQJUUjmIh7hBA9pLaGb2QGECt4v2pWWYZQIUr51X+shFAnTKun91aI0BuZHS+d/QbQBvWAMj8DA5AGWddTuw1HkA4mufA9pIRQKBoQg/VCyBA/qoTHvW/IUDdnNnfihwUQC9ugkKjayFAAAsvMW7nHkDRBmS3GVQhQO+raHZO3yVAJVu3+JMbG0BORRwAbY0XQMxj3dAW/RZAP91JqpAcGEB82RZHw5AeQJxrABS7OyFA3g9dLC1CIUDEgLMhu78jQFzz539BySBAsqFd9ADZJkDS5/WPnUcgQBy2jEuDhyxAFi8fLZN3JEDmurHmx7YdQKrTGAJNqBxAENFdJNHfJEBCPmJFW2MiQD7LROkheyZADTaKGM3dJUDYtEU3PAkkQIJa5aGyTCFAwU58CgX8HUCC9Hn7xqIjQCPotAcnOSlAFA4LGgUJJ0AwiC22IpUhQMa+zmd9pidAn4Aqkn7lKEB48cBVCDkkQCwi8SgWyChANTzwWz7QKECHEroxmW0kQA==",
          "dtype": "f8"
         },
         "yaxis": "y"
        }
       ],
       "layout": {
        "legend": {
         "tracegroupgap": 0
        },
        "template": {
         "data": {
          "bar": [
           {
            "error_x": {
             "color": "#2a3f5f"
            },
            "error_y": {
             "color": "#2a3f5f"
            },
            "marker": {
             "line": {
              "color": "#E5ECF6",
              "width": 0.5
             },
             "pattern": {
              "fillmode": "overlay",
              "size": 10,
              "solidity": 0.2
             }
            },
            "type": "bar"
           }
          ],
          "barpolar": [
           {
            "marker": {
             "line": {
              "color": "#E5ECF6",
              "width": 0.5
             },
             "pattern": {
              "fillmode": "overlay",
              "size": 10,
              "solidity": 0.2
             }
            },
            "type": "barpolar"
           }
          ],
          "carpet": [
           {
            "aaxis": {
             "endlinecolor": "#2a3f5f",
             "gridcolor": "white",
             "linecolor": "white",
             "minorgridcolor": "white",
             "startlinecolor": "#2a3f5f"
            },
            "baxis": {
             "endlinecolor": "#2a3f5f",
             "gridcolor": "white",
             "linecolor": "white",
             "minorgridcolor": "white",
             "startlinecolor": "#2a3f5f"
            },
            "type": "carpet"
           }
          ],
          "choropleth": [
           {
            "colorbar": {
             "outlinewidth": 0,
             "ticks": ""
            },
            "type": "choropleth"
           }
          ],
          "contour": [
           {
            "colorbar": {
             "outlinewidth": 0,
             "ticks": ""
            },
            "colorscale": [
             [
              0,
              "#0d0887"
             ],
             [
              0.1111111111111111,
              "#46039f"
             ],
             [
              0.2222222222222222,
              "#7201a8"
             ],
             [
              0.3333333333333333,
              "#9c179e"
             ],
             [
              0.4444444444444444,
              "#bd3786"
             ],
             [
              0.5555555555555556,
              "#d8576b"
             ],
             [
              0.6666666666666666,
              "#ed7953"
             ],
             [
              0.7777777777777778,
              "#fb9f3a"
             ],
             [
              0.8888888888888888,
              "#fdca26"
             ],
             [
              1,
              "#f0f921"
             ]
            ],
            "type": "contour"
           }
          ],
          "contourcarpet": [
           {
            "colorbar": {
             "outlinewidth": 0,
             "ticks": ""
            },
            "type": "contourcarpet"
           }
          ],
          "heatmap": [
           {
            "colorbar": {
             "outlinewidth": 0,
             "ticks": ""
            },
            "colorscale": [
             [
              0,
              "#0d0887"
             ],
             [
              0.1111111111111111,
              "#46039f"
             ],
             [
              0.2222222222222222,
              "#7201a8"
             ],
             [
              0.3333333333333333,
              "#9c179e"
             ],
             [
              0.4444444444444444,
              "#bd3786"
             ],
             [
              0.5555555555555556,
              "#d8576b"
             ],
             [
              0.6666666666666666,
              "#ed7953"
             ],
             [
              0.7777777777777778,
              "#fb9f3a"
             ],
             [
              0.8888888888888888,
              "#fdca26"
             ],
             [
              1,
              "#f0f921"
             ]
            ],
            "type": "heatmap"
           }
          ],
          "histogram": [
           {
            "marker": {
             "pattern": {
              "fillmode": "overlay",
              "size": 10,
              "solidity": 0.2
             }
            },
            "type": "histogram"
           }
          ],
          "histogram2d": [
           {
            "colorbar": {
             "outlinewidth": 0,
             "ticks": ""
            },
            "colorscale": [
             [
              0,
              "#0d0887"
             ],
             [
              0.1111111111111111,
              "#46039f"
             ],
             [
              0.2222222222222222,
              "#7201a8"
             ],
             [
              0.3333333333333333,
              "#9c179e"
             ],
             [
              0.4444444444444444,
              "#bd3786"
             ],
             [
              0.5555555555555556,
              "#d8576b"
             ],
             [
              0.6666666666666666,
              "#ed7953"
             ],
             [
              0.7777777777777778,
              "#fb9f3a"
             ],
             [
              0.8888888888888888,
              "#fdca26"
             ],
             [
              1,
              "#f0f921"
             ]
            ],
            "type": "histogram2d"
           }
          ],
          "histogram2dcontour": [
           {
            "colorbar": {
             "outlinewidth": 0,
             "ticks": ""
            },
            "colorscale": [
             [
              0,
              "#0d0887"
             ],
             [
              0.1111111111111111,
              "#46039f"
             ],
             [
              0.2222222222222222,
              "#7201a8"
             ],
             [
              0.3333333333333333,
              "#9c179e"
             ],
             [
              0.4444444444444444,
              "#bd3786"
             ],
             [
              0.5555555555555556,
              "#d8576b"
             ],
             [
              0.6666666666666666,
              "#ed7953"
             ],
             [
              0.7777777777777778,
              "#fb9f3a"
             ],
             [
              0.8888888888888888,
              "#fdca26"
             ],
             [
              1,
              "#f0f921"
             ]
            ],
            "type": "histogram2dcontour"
           }
          ],
          "mesh3d": [
           {
            "colorbar": {
             "outlinewidth": 0,
             "ticks": ""
            },
            "type": "mesh3d"
           }
          ],
          "parcoords": [
           {
            "line": {
             "colorbar": {
              "outlinewidth": 0,
              "ticks": ""
             }
            },
            "type": "parcoords"
           }
          ],
          "pie": [
           {
            "automargin": true,
            "type": "pie"
           }
          ],
          "scatter": [
           {
            "fillpattern": {
             "fillmode": "overlay",
             "size": 10,
             "solidity": 0.2
            },
            "type": "scatter"
           }
          ],
          "scatter3d": [
           {
            "line": {
             "colorbar": {
              "outlinewidth": 0,
              "ticks": ""
             }
            },
            "marker": {
             "colorbar": {
              "outlinewidth": 0,
              "ticks": ""
             }
            },
            "type": "scatter3d"
           }
          ],
          "scattercarpet": [
           {
            "marker": {
             "colorbar": {
              "outlinewidth": 0,
              "ticks": ""
             }
            },
            "type": "scattercarpet"
           }
          ],
          "scattergeo": [
           {
            "marker": {
             "colorbar": {
              "outlinewidth": 0,
              "ticks": ""
             }
            },
            "type": "scattergeo"
           }
          ],
          "scattergl": [
           {
            "marker": {
             "colorbar": {
              "outlinewidth": 0,
              "ticks": ""
             }
            },
            "type": "scattergl"
           }
          ],
          "scattermap": [
           {
            "marker": {
             "colorbar": {
              "outlinewidth": 0,
              "ticks": ""
             }
            },
            "type": "scattermap"
           }
          ],
          "scattermapbox": [
           {
            "marker": {
             "colorbar": {
              "outlinewidth": 0,
              "ticks": ""
             }
            },
            "type": "scattermapbox"
           }
          ],
          "scatterpolar": [
           {
            "marker": {
             "colorbar": {
              "outlinewidth": 0,
              "ticks": ""
             }
            },
            "type": "scatterpolar"
           }
          ],
          "scatterpolargl": [
           {
            "marker": {
             "colorbar": {
              "outlinewidth": 0,
              "ticks": ""
             }
            },
            "type": "scatterpolargl"
           }
          ],
          "scatterternary": [
           {
            "marker": {
             "colorbar": {
              "outlinewidth": 0,
              "ticks": ""
             }
            },
            "type": "scatterternary"
           }
          ],
          "surface": [
           {
            "colorbar": {
             "outlinewidth": 0,
             "ticks": ""
            },
            "colorscale": [
             [
              0,
              "#0d0887"
             ],
             [
              0.1111111111111111,
              "#46039f"
             ],
             [
              0.2222222222222222,
              "#7201a8"
             ],
             [
              0.3333333333333333,
              "#9c179e"
             ],
             [
              0.4444444444444444,
              "#bd3786"
             ],
             [
              0.5555555555555556,
              "#d8576b"
             ],
             [
              0.6666666666666666,
              "#ed7953"
             ],
             [
              0.7777777777777778,
              "#fb9f3a"
             ],
             [
              0.8888888888888888,
              "#fdca26"
             ],
             [
              1,
              "#f0f921"
             ]
            ],
            "type": "surface"
           }
          ],
          "table": [
           {
            "cells": {
             "fill": {
              "color": "#EBF0F8"
             },
             "line": {
              "color": "white"
             }
            },
            "header": {
             "fill": {
              "color": "#C8D4E3"
             },
             "line": {
              "color": "white"
             }
            },
            "type": "table"
           }
          ]
         },
         "layout": {
          "annotationdefaults": {
           "arrowcolor": "#2a3f5f",
           "arrowhead": 0,
           "arrowwidth": 1
          },
          "autotypenumbers": "strict",
          "coloraxis": {
           "colorbar": {
            "outlinewidth": 0,
            "ticks": ""
           }
          },
          "colorscale": {
           "diverging": [
            [
             0,
             "#8e0152"
            ],
            [
             0.1,
             "#c51b7d"
            ],
            [
             0.2,
             "#de77ae"
            ],
            [
             0.3,
             "#f1b6da"
            ],
            [
             0.4,
             "#fde0ef"
            ],
            [
             0.5,
             "#f7f7f7"
            ],
            [
             0.6,
             "#e6f5d0"
            ],
            [
             0.7,
             "#b8e186"
            ],
            [
             0.8,
             "#7fbc41"
            ],
            [
             0.9,
             "#4d9221"
            ],
            [
             1,
             "#276419"
            ]
           ],
           "sequential": [
            [
             0,
             "#0d0887"
            ],
            [
             0.1111111111111111,
             "#46039f"
            ],
            [
             0.2222222222222222,
             "#7201a8"
            ],
            [
             0.3333333333333333,
             "#9c179e"
            ],
            [
             0.4444444444444444,
             "#bd3786"
            ],
            [
             0.5555555555555556,
             "#d8576b"
            ],
            [
             0.6666666666666666,
             "#ed7953"
            ],
            [
             0.7777777777777778,
             "#fb9f3a"
            ],
            [
             0.8888888888888888,
             "#fdca26"
            ],
            [
             1,
             "#f0f921"
            ]
           ],
           "sequentialminus": [
            [
             0,
             "#0d0887"
            ],
            [
             0.1111111111111111,
             "#46039f"
            ],
            [
             0.2222222222222222,
             "#7201a8"
            ],
            [
             0.3333333333333333,
             "#9c179e"
            ],
            [
             0.4444444444444444,
             "#bd3786"
            ],
            [
             0.5555555555555556,
             "#d8576b"
            ],
            [
             0.6666666666666666,
             "#ed7953"
            ],
            [
             0.7777777777777778,
             "#fb9f3a"
            ],
            [
             0.8888888888888888,
             "#fdca26"
            ],
            [
             1,
             "#f0f921"
            ]
           ]
          },
          "colorway": [
           "#636efa",
           "#EF553B",
           "#00cc96",
           "#ab63fa",
           "#FFA15A",
           "#19d3f3",
           "#FF6692",
           "#B6E880",
           "#FF97FF",
           "#FECB52"
          ],
          "font": {
           "color": "#2a3f5f"
          },
          "geo": {
           "bgcolor": "white",
           "lakecolor": "white",
           "landcolor": "#E5ECF6",
           "showlakes": true,
           "showland": true,
           "subunitcolor": "white"
          },
          "hoverlabel": {
           "align": "left"
          },
          "hovermode": "closest",
          "mapbox": {
           "style": "light"
          },
          "paper_bgcolor": "white",
          "plot_bgcolor": "#E5ECF6",
          "polar": {
           "angularaxis": {
            "gridcolor": "white",
            "linecolor": "white",
            "ticks": ""
           },
           "bgcolor": "#E5ECF6",
           "radialaxis": {
            "gridcolor": "white",
            "linecolor": "white",
            "ticks": ""
           }
          },
          "scene": {
           "xaxis": {
            "backgroundcolor": "#E5ECF6",
            "gridcolor": "white",
            "gridwidth": 2,
            "linecolor": "white",
            "showbackground": true,
            "ticks": "",
            "zerolinecolor": "white"
           },
           "yaxis": {
            "backgroundcolor": "#E5ECF6",
            "gridcolor": "white",
            "gridwidth": 2,
            "linecolor": "white",
            "showbackground": true,
            "ticks": "",
            "zerolinecolor": "white"
           },
           "zaxis": {
            "backgroundcolor": "#E5ECF6",
            "gridcolor": "white",
            "gridwidth": 2,
            "linecolor": "white",
            "showbackground": true,
            "ticks": "",
            "zerolinecolor": "white"
           }
          },
          "shapedefaults": {
           "line": {
            "color": "#2a3f5f"
           }
          },
          "ternary": {
           "aaxis": {
            "gridcolor": "white",
            "linecolor": "white",
            "ticks": ""
           },
           "baxis": {
            "gridcolor": "white",
            "linecolor": "white",
            "ticks": ""
           },
           "bgcolor": "#E5ECF6",
           "caxis": {
            "gridcolor": "white",
            "linecolor": "white",
            "ticks": ""
           }
          },
          "title": {
           "x": 0.05
          },
          "xaxis": {
           "automargin": true,
           "gridcolor": "white",
           "linecolor": "white",
           "ticks": "",
           "title": {
            "standoff": 15
           },
           "zerolinecolor": "white",
           "zerolinewidth": 2
          },
          "yaxis": {
           "automargin": true,
           "gridcolor": "white",
           "linecolor": "white",
           "ticks": "",
           "title": {
            "standoff": 15
           },
           "zerolinecolor": "white",
           "zerolinewidth": 2
          }
         }
        },
        "title": {
         "text": "Simulated Real-World Data (with noise)"
        },
        "xaxis": {
         "anchor": "y",
         "domain": [
          0,
          1
         ],
         "title": {
          "text": "x"
         }
        },
        "yaxis": {
         "anchor": "x",
         "domain": [
          0,
          1
         ],
         "title": {
          "text": "y"
         }
        }
       }
      }
     },
     "metadata": {},
     "output_type": "display_data"
    }
   ],
   "source": [
    "\n",
    "import numpy as np\n",
    "import pandas as pd\n",
    "import plotly.express as px\n",
    "\n",
    "# Simulated data-generating process: nonlinear, noisy\n",
    "np.random.seed(42)\n",
    "X = np.linspace(-3, 3, 200)\n",
    "true_function = lambda x: 1.5 * x**2 - 2 * x + 5\n",
    "noise = np.random.normal(0, 2, size=X.shape)\n",
    "y = true_function(X) + noise\n",
    "\n",
    "df = pd.DataFrame({'x': X, 'y': y, 'truth': true_function(X)})\n",
    "px.scatter(df, x='x', y='y', title='Simulated Real-World Data (with noise)').show()\n"
   ]
  },
  {
   "cell_type": "markdown",
   "id": "3a96ecaf",
   "metadata": {},
   "source": [
    "### 💡 Concept: Data Generating Process\n",
    "A **data generating process** is the real-world mechanism (possibly unknown) that produces our data.\n",
    "In this simulation, we control the mechanism: it’s a quadratic function plus random noise.\n",
    "\n",
    "**Assumption:** We never get to see this function in practice — only its output + noise."
   ]
  },
  {
   "cell_type": "markdown",
   "id": "608df536",
   "metadata": {},
   "source": [
    "## 3. Try to Approximate with a Linear Model\n",
    "Now we fit a linear model — a poor but informative simplification."
   ]
  },
  {
   "cell_type": "code",
   "execution_count": 2,
   "id": "3efcd860",
   "metadata": {},
   "outputs": [
    {
     "data": {
      "application/vnd.plotly.v1+json": {
       "config": {
        "plotlyServerURL": "https://plot.ly"
       },
       "data": [
        {
         "hovertemplate": "x=%{x}<br>y=%{y}<extra></extra>",
         "legendgroup": "",
         "marker": {
          "color": "#636efa",
          "opacity": 0.6,
          "symbol": "circle"
         },
         "mode": "markers",
         "name": "",
         "orientation": "v",
         "showlegend": false,
         "type": "scatter",
         "x": {
          "bdata": "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",
          "dtype": "f8"
         },
         "xaxis": "x",
         "y": {
          "bdata": "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",
          "dtype": "f8"
         },
         "yaxis": "y"
        },
        {
         "name": "Linear Prediction",
         "type": "scatter",
         "x": {
          "bdata": "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",
          "dtype": "f8"
         },
         "y": {
          "bdata": "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",
          "dtype": "f8"
         }
        }
       ],
       "layout": {
        "legend": {
         "tracegroupgap": 0
        },
        "template": {
         "data": {
          "bar": [
           {
            "error_x": {
             "color": "#2a3f5f"
            },
            "error_y": {
             "color": "#2a3f5f"
            },
            "marker": {
             "line": {
              "color": "#E5ECF6",
              "width": 0.5
             },
             "pattern": {
              "fillmode": "overlay",
              "size": 10,
              "solidity": 0.2
             }
            },
            "type": "bar"
           }
          ],
          "barpolar": [
           {
            "marker": {
             "line": {
              "color": "#E5ECF6",
              "width": 0.5
             },
             "pattern": {
              "fillmode": "overlay",
              "size": 10,
              "solidity": 0.2
             }
            },
            "type": "barpolar"
           }
          ],
          "carpet": [
           {
            "aaxis": {
             "endlinecolor": "#2a3f5f",
             "gridcolor": "white",
             "linecolor": "white",
             "minorgridcolor": "white",
             "startlinecolor": "#2a3f5f"
            },
            "baxis": {
             "endlinecolor": "#2a3f5f",
             "gridcolor": "white",
             "linecolor": "white",
             "minorgridcolor": "white",
             "startlinecolor": "#2a3f5f"
            },
            "type": "carpet"
           }
          ],
          "choropleth": [
           {
            "colorbar": {
             "outlinewidth": 0,
             "ticks": ""
            },
            "type": "choropleth"
           }
          ],
          "contour": [
           {
            "colorbar": {
             "outlinewidth": 0,
             "ticks": ""
            },
            "colorscale": [
             [
              0,
              "#0d0887"
             ],
             [
              0.1111111111111111,
              "#46039f"
             ],
             [
              0.2222222222222222,
              "#7201a8"
             ],
             [
              0.3333333333333333,
              "#9c179e"
             ],
             [
              0.4444444444444444,
              "#bd3786"
             ],
             [
              0.5555555555555556,
              "#d8576b"
             ],
             [
              0.6666666666666666,
              "#ed7953"
             ],
             [
              0.7777777777777778,
              "#fb9f3a"
             ],
             [
              0.8888888888888888,
              "#fdca26"
             ],
             [
              1,
              "#f0f921"
             ]
            ],
            "type": "contour"
           }
          ],
          "contourcarpet": [
           {
            "colorbar": {
             "outlinewidth": 0,
             "ticks": ""
            },
            "type": "contourcarpet"
           }
          ],
          "heatmap": [
           {
            "colorbar": {
             "outlinewidth": 0,
             "ticks": ""
            },
            "colorscale": [
             [
              0,
              "#0d0887"
             ],
             [
              0.1111111111111111,
              "#46039f"
             ],
             [
              0.2222222222222222,
              "#7201a8"
             ],
             [
              0.3333333333333333,
              "#9c179e"
             ],
             [
              0.4444444444444444,
              "#bd3786"
             ],
             [
              0.5555555555555556,
              "#d8576b"
             ],
             [
              0.6666666666666666,
              "#ed7953"
             ],
             [
              0.7777777777777778,
              "#fb9f3a"
             ],
             [
              0.8888888888888888,
              "#fdca26"
             ],
             [
              1,
              "#f0f921"
             ]
            ],
            "type": "heatmap"
           }
          ],
          "histogram": [
           {
            "marker": {
             "pattern": {
              "fillmode": "overlay",
              "size": 10,
              "solidity": 0.2
             }
            },
            "type": "histogram"
           }
          ],
          "histogram2d": [
           {
            "colorbar": {
             "outlinewidth": 0,
             "ticks": ""
            },
            "colorscale": [
             [
              0,
              "#0d0887"
             ],
             [
              0.1111111111111111,
              "#46039f"
             ],
             [
              0.2222222222222222,
              "#7201a8"
             ],
             [
              0.3333333333333333,
              "#9c179e"
             ],
             [
              0.4444444444444444,
              "#bd3786"
             ],
             [
              0.5555555555555556,
              "#d8576b"
             ],
             [
              0.6666666666666666,
              "#ed7953"
             ],
             [
              0.7777777777777778,
              "#fb9f3a"
             ],
             [
              0.8888888888888888,
              "#fdca26"
             ],
             [
              1,
              "#f0f921"
             ]
            ],
            "type": "histogram2d"
           }
          ],
          "histogram2dcontour": [
           {
            "colorbar": {
             "outlinewidth": 0,
             "ticks": ""
            },
            "colorscale": [
             [
              0,
              "#0d0887"
             ],
             [
              0.1111111111111111,
              "#46039f"
             ],
             [
              0.2222222222222222,
              "#7201a8"
             ],
             [
              0.3333333333333333,
              "#9c179e"
             ],
             [
              0.4444444444444444,
              "#bd3786"
             ],
             [
              0.5555555555555556,
              "#d8576b"
             ],
             [
              0.6666666666666666,
              "#ed7953"
             ],
             [
              0.7777777777777778,
              "#fb9f3a"
             ],
             [
              0.8888888888888888,
              "#fdca26"
             ],
             [
              1,
              "#f0f921"
             ]
            ],
            "type": "histogram2dcontour"
           }
          ],
          "mesh3d": [
           {
            "colorbar": {
             "outlinewidth": 0,
             "ticks": ""
            },
            "type": "mesh3d"
           }
          ],
          "parcoords": [
           {
            "line": {
             "colorbar": {
              "outlinewidth": 0,
              "ticks": ""
             }
            },
            "type": "parcoords"
           }
          ],
          "pie": [
           {
            "automargin": true,
            "type": "pie"
           }
          ],
          "scatter": [
           {
            "fillpattern": {
             "fillmode": "overlay",
             "size": 10,
             "solidity": 0.2
            },
            "type": "scatter"
           }
          ],
          "scatter3d": [
           {
            "line": {
             "colorbar": {
              "outlinewidth": 0,
              "ticks": ""
             }
            },
            "marker": {
             "colorbar": {
              "outlinewidth": 0,
              "ticks": ""
             }
            },
            "type": "scatter3d"
           }
          ],
          "scattercarpet": [
           {
            "marker": {
             "colorbar": {
              "outlinewidth": 0,
              "ticks": ""
             }
            },
            "type": "scattercarpet"
           }
          ],
          "scattergeo": [
           {
            "marker": {
             "colorbar": {
              "outlinewidth": 0,
              "ticks": ""
             }
            },
            "type": "scattergeo"
           }
          ],
          "scattergl": [
           {
            "marker": {
             "colorbar": {
              "outlinewidth": 0,
              "ticks": ""
             }
            },
            "type": "scattergl"
           }
          ],
          "scattermap": [
           {
            "marker": {
             "colorbar": {
              "outlinewidth": 0,
              "ticks": ""
             }
            },
            "type": "scattermap"
           }
          ],
          "scattermapbox": [
           {
            "marker": {
             "colorbar": {
              "outlinewidth": 0,
              "ticks": ""
             }
            },
            "type": "scattermapbox"
           }
          ],
          "scatterpolar": [
           {
            "marker": {
             "colorbar": {
              "outlinewidth": 0,
              "ticks": ""
             }
            },
            "type": "scatterpolar"
           }
          ],
          "scatterpolargl": [
           {
            "marker": {
             "colorbar": {
              "outlinewidth": 0,
              "ticks": ""
             }
            },
            "type": "scatterpolargl"
           }
          ],
          "scatterternary": [
           {
            "marker": {
             "colorbar": {
              "outlinewidth": 0,
              "ticks": ""
             }
            },
            "type": "scatterternary"
           }
          ],
          "surface": [
           {
            "colorbar": {
             "outlinewidth": 0,
             "ticks": ""
            },
            "colorscale": [
             [
              0,
              "#0d0887"
             ],
             [
              0.1111111111111111,
              "#46039f"
             ],
             [
              0.2222222222222222,
              "#7201a8"
             ],
             [
              0.3333333333333333,
              "#9c179e"
             ],
             [
              0.4444444444444444,
              "#bd3786"
             ],
             [
              0.5555555555555556,
              "#d8576b"
             ],
             [
              0.6666666666666666,
              "#ed7953"
             ],
             [
              0.7777777777777778,
              "#fb9f3a"
             ],
             [
              0.8888888888888888,
              "#fdca26"
             ],
             [
              1,
              "#f0f921"
             ]
            ],
            "type": "surface"
           }
          ],
          "table": [
           {
            "cells": {
             "fill": {
              "color": "#EBF0F8"
             },
             "line": {
              "color": "white"
             }
            },
            "header": {
             "fill": {
              "color": "#C8D4E3"
             },
             "line": {
              "color": "white"
             }
            },
            "type": "table"
           }
          ]
         },
         "layout": {
          "annotationdefaults": {
           "arrowcolor": "#2a3f5f",
           "arrowhead": 0,
           "arrowwidth": 1
          },
          "autotypenumbers": "strict",
          "coloraxis": {
           "colorbar": {
            "outlinewidth": 0,
            "ticks": ""
           }
          },
          "colorscale": {
           "diverging": [
            [
             0,
             "#8e0152"
            ],
            [
             0.1,
             "#c51b7d"
            ],
            [
             0.2,
             "#de77ae"
            ],
            [
             0.3,
             "#f1b6da"
            ],
            [
             0.4,
             "#fde0ef"
            ],
            [
             0.5,
             "#f7f7f7"
            ],
            [
             0.6,
             "#e6f5d0"
            ],
            [
             0.7,
             "#b8e186"
            ],
            [
             0.8,
             "#7fbc41"
            ],
            [
             0.9,
             "#4d9221"
            ],
            [
             1,
             "#276419"
            ]
           ],
           "sequential": [
            [
             0,
             "#0d0887"
            ],
            [
             0.1111111111111111,
             "#46039f"
            ],
            [
             0.2222222222222222,
             "#7201a8"
            ],
            [
             0.3333333333333333,
             "#9c179e"
            ],
            [
             0.4444444444444444,
             "#bd3786"
            ],
            [
             0.5555555555555556,
             "#d8576b"
            ],
            [
             0.6666666666666666,
             "#ed7953"
            ],
            [
             0.7777777777777778,
             "#fb9f3a"
            ],
            [
             0.8888888888888888,
             "#fdca26"
            ],
            [
             1,
             "#f0f921"
            ]
           ],
           "sequentialminus": [
            [
             0,
             "#0d0887"
            ],
            [
             0.1111111111111111,
             "#46039f"
            ],
            [
             0.2222222222222222,
             "#7201a8"
            ],
            [
             0.3333333333333333,
             "#9c179e"
            ],
            [
             0.4444444444444444,
             "#bd3786"
            ],
            [
             0.5555555555555556,
             "#d8576b"
            ],
            [
             0.6666666666666666,
             "#ed7953"
            ],
            [
             0.7777777777777778,
             "#fb9f3a"
            ],
            [
             0.8888888888888888,
             "#fdca26"
            ],
            [
             1,
             "#f0f921"
            ]
           ]
          },
          "colorway": [
           "#636efa",
           "#EF553B",
           "#00cc96",
           "#ab63fa",
           "#FFA15A",
           "#19d3f3",
           "#FF6692",
           "#B6E880",
           "#FF97FF",
           "#FECB52"
          ],
          "font": {
           "color": "#2a3f5f"
          },
          "geo": {
           "bgcolor": "white",
           "lakecolor": "white",
           "landcolor": "#E5ECF6",
           "showlakes": true,
           "showland": true,
           "subunitcolor": "white"
          },
          "hoverlabel": {
           "align": "left"
          },
          "hovermode": "closest",
          "mapbox": {
           "style": "light"
          },
          "paper_bgcolor": "white",
          "plot_bgcolor": "#E5ECF6",
          "polar": {
           "angularaxis": {
            "gridcolor": "white",
            "linecolor": "white",
            "ticks": ""
           },
           "bgcolor": "#E5ECF6",
           "radialaxis": {
            "gridcolor": "white",
            "linecolor": "white",
            "ticks": ""
           }
          },
          "scene": {
           "xaxis": {
            "backgroundcolor": "#E5ECF6",
            "gridcolor": "white",
            "gridwidth": 2,
            "linecolor": "white",
            "showbackground": true,
            "ticks": "",
            "zerolinecolor": "white"
           },
           "yaxis": {
            "backgroundcolor": "#E5ECF6",
            "gridcolor": "white",
            "gridwidth": 2,
            "linecolor": "white",
            "showbackground": true,
            "ticks": "",
            "zerolinecolor": "white"
           },
           "zaxis": {
            "backgroundcolor": "#E5ECF6",
            "gridcolor": "white",
            "gridwidth": 2,
            "linecolor": "white",
            "showbackground": true,
            "ticks": "",
            "zerolinecolor": "white"
           }
          },
          "shapedefaults": {
           "line": {
            "color": "#2a3f5f"
           }
          },
          "ternary": {
           "aaxis": {
            "gridcolor": "white",
            "linecolor": "white",
            "ticks": ""
           },
           "baxis": {
            "gridcolor": "white",
            "linecolor": "white",
            "ticks": ""
           },
           "bgcolor": "#E5ECF6",
           "caxis": {
            "gridcolor": "white",
            "linecolor": "white",
            "ticks": ""
           }
          },
          "title": {
           "x": 0.05
          },
          "xaxis": {
           "automargin": true,
           "gridcolor": "white",
           "linecolor": "white",
           "ticks": "",
           "title": {
            "standoff": 15
           },
           "zerolinecolor": "white",
           "zerolinewidth": 2
          },
          "yaxis": {
           "automargin": true,
           "gridcolor": "white",
           "linecolor": "white",
           "ticks": "",
           "title": {
            "standoff": 15
           },
           "zerolinecolor": "white",
           "zerolinewidth": 2
          }
         }
        },
        "title": {
         "text": "Linear Model vs Data"
        },
        "xaxis": {
         "anchor": "y",
         "domain": [
          0,
          1
         ],
         "title": {
          "text": "x"
         }
        },
        "yaxis": {
         "anchor": "x",
         "domain": [
          0,
          1
         ],
         "title": {
          "text": "y"
         }
        }
       }
      }
     },
     "metadata": {},
     "output_type": "display_data"
    }
   ],
   "source": [
    "\n",
    "from sklearn.linear_model import LinearRegression\n",
    "\n",
    "model = LinearRegression()\n",
    "model.fit(X.reshape(-1, 1), y)\n",
    "y_pred = model.predict(X.reshape(-1, 1))\n",
    "\n",
    "df['y_pred_linear'] = y_pred\n",
    "px.scatter(df, x='x', y='y', opacity=0.6, title='Linear Model vs Data')    .add_scatter(x=X, y=y_pred, name='Linear Prediction').show()\n"
   ]
  },
  {
   "cell_type": "markdown",
   "id": "dec0eee3",
   "metadata": {},
   "source": [
    "### 💡 Concept: Approximation Error\n",
    "- Linear models can only express linear relationships.\n",
    "- Our true function is nonlinear — so linear regression introduces **bias** even if trained perfectly.\n",
    "- **Approximation error** is the gap between the true function and the best model we could possibly fit using this method."
   ]
  },
  {
   "cell_type": "markdown",
   "id": "1c7daf67",
   "metadata": {},
   "source": [
    "## 4. Visualize the True Function vs Model"
   ]
  },
  {
   "cell_type": "code",
   "execution_count": 3,
   "id": "f2b0f66c",
   "metadata": {},
   "outputs": [
    {
     "data": {
      "application/vnd.plotly.v1+json": {
       "config": {
        "plotlyServerURL": "https://plot.ly"
       },
       "data": [
        {
         "hovertemplate": "x=%{x}<br>truth=%{y}<extra></extra>",
         "legendgroup": "",
         "line": {
          "color": "#636efa",
          "dash": "solid"
         },
         "marker": {
          "symbol": "circle"
         },
         "mode": "lines",
         "name": "",
         "orientation": "v",
         "showlegend": false,
         "type": "scatter",
         "x": {
          "bdata": "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",
          "dtype": "f8"
         },
         "xaxis": "x",
         "y": {
          "bdata": "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",
          "dtype": "f8"
         },
         "yaxis": "y"
        },
        {
         "name": "Linear Prediction",
         "type": "scatter",
         "x": {
          "bdata": "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",
          "dtype": "f8"
         },
         "y": {
          "bdata": "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",
          "dtype": "f8"
         }
        }
       ],
       "layout": {
        "legend": {
         "tracegroupgap": 0
        },
        "template": {
         "data": {
          "bar": [
           {
            "error_x": {
             "color": "#2a3f5f"
            },
            "error_y": {
             "color": "#2a3f5f"
            },
            "marker": {
             "line": {
              "color": "#E5ECF6",
              "width": 0.5
             },
             "pattern": {
              "fillmode": "overlay",
              "size": 10,
              "solidity": 0.2
             }
            },
            "type": "bar"
           }
          ],
          "barpolar": [
           {
            "marker": {
             "line": {
              "color": "#E5ECF6",
              "width": 0.5
             },
             "pattern": {
              "fillmode": "overlay",
              "size": 10,
              "solidity": 0.2
             }
            },
            "type": "barpolar"
           }
          ],
          "carpet": [
           {
            "aaxis": {
             "endlinecolor": "#2a3f5f",
             "gridcolor": "white",
             "linecolor": "white",
             "minorgridcolor": "white",
             "startlinecolor": "#2a3f5f"
            },
            "baxis": {
             "endlinecolor": "#2a3f5f",
             "gridcolor": "white",
             "linecolor": "white",
             "minorgridcolor": "white",
             "startlinecolor": "#2a3f5f"
            },
            "type": "carpet"
           }
          ],
          "choropleth": [
           {
            "colorbar": {
             "outlinewidth": 0,
             "ticks": ""
            },
            "type": "choropleth"
           }
          ],
          "contour": [
           {
            "colorbar": {
             "outlinewidth": 0,
             "ticks": ""
            },
            "colorscale": [
             [
              0,
              "#0d0887"
             ],
             [
              0.1111111111111111,
              "#46039f"
             ],
             [
              0.2222222222222222,
              "#7201a8"
             ],
             [
              0.3333333333333333,
              "#9c179e"
             ],
             [
              0.4444444444444444,
              "#bd3786"
             ],
             [
              0.5555555555555556,
              "#d8576b"
             ],
             [
              0.6666666666666666,
              "#ed7953"
             ],
             [
              0.7777777777777778,
              "#fb9f3a"
             ],
             [
              0.8888888888888888,
              "#fdca26"
             ],
             [
              1,
              "#f0f921"
             ]
            ],
            "type": "contour"
           }
          ],
          "contourcarpet": [
           {
            "colorbar": {
             "outlinewidth": 0,
             "ticks": ""
            },
            "type": "contourcarpet"
           }
          ],
          "heatmap": [
           {
            "colorbar": {
             "outlinewidth": 0,
             "ticks": ""
            },
            "colorscale": [
             [
              0,
              "#0d0887"
             ],
             [
              0.1111111111111111,
              "#46039f"
             ],
             [
              0.2222222222222222,
              "#7201a8"
             ],
             [
              0.3333333333333333,
              "#9c179e"
             ],
             [
              0.4444444444444444,
              "#bd3786"
             ],
             [
              0.5555555555555556,
              "#d8576b"
             ],
             [
              0.6666666666666666,
              "#ed7953"
             ],
             [
              0.7777777777777778,
              "#fb9f3a"
             ],
             [
              0.8888888888888888,
              "#fdca26"
             ],
             [
              1,
              "#f0f921"
             ]
            ],
            "type": "heatmap"
           }
          ],
          "histogram": [
           {
            "marker": {
             "pattern": {
              "fillmode": "overlay",
              "size": 10,
              "solidity": 0.2
             }
            },
            "type": "histogram"
           }
          ],
          "histogram2d": [
           {
            "colorbar": {
             "outlinewidth": 0,
             "ticks": ""
            },
            "colorscale": [
             [
              0,
              "#0d0887"
             ],
             [
              0.1111111111111111,
              "#46039f"
             ],
             [
              0.2222222222222222,
              "#7201a8"
             ],
             [
              0.3333333333333333,
              "#9c179e"
             ],
             [
              0.4444444444444444,
              "#bd3786"
             ],
             [
              0.5555555555555556,
              "#d8576b"
             ],
             [
              0.6666666666666666,
              "#ed7953"
             ],
             [
              0.7777777777777778,
              "#fb9f3a"
             ],
             [
              0.8888888888888888,
              "#fdca26"
             ],
             [
              1,
              "#f0f921"
             ]
            ],
            "type": "histogram2d"
           }
          ],
          "histogram2dcontour": [
           {
            "colorbar": {
             "outlinewidth": 0,
             "ticks": ""
            },
            "colorscale": [
             [
              0,
              "#0d0887"
             ],
             [
              0.1111111111111111,
              "#46039f"
             ],
             [
              0.2222222222222222,
              "#7201a8"
             ],
             [
              0.3333333333333333,
              "#9c179e"
             ],
             [
              0.4444444444444444,
              "#bd3786"
             ],
             [
              0.5555555555555556,
              "#d8576b"
             ],
             [
              0.6666666666666666,
              "#ed7953"
             ],
             [
              0.7777777777777778,
              "#fb9f3a"
             ],
             [
              0.8888888888888888,
              "#fdca26"
             ],
             [
              1,
              "#f0f921"
             ]
            ],
            "type": "histogram2dcontour"
           }
          ],
          "mesh3d": [
           {
            "colorbar": {
             "outlinewidth": 0,
             "ticks": ""
            },
            "type": "mesh3d"
           }
          ],
          "parcoords": [
           {
            "line": {
             "colorbar": {
              "outlinewidth": 0,
              "ticks": ""
             }
            },
            "type": "parcoords"
           }
          ],
          "pie": [
           {
            "automargin": true,
            "type": "pie"
           }
          ],
          "scatter": [
           {
            "fillpattern": {
             "fillmode": "overlay",
             "size": 10,
             "solidity": 0.2
            },
            "type": "scatter"
           }
          ],
          "scatter3d": [
           {
            "line": {
             "colorbar": {
              "outlinewidth": 0,
              "ticks": ""
             }
            },
            "marker": {
             "colorbar": {
              "outlinewidth": 0,
              "ticks": ""
             }
            },
            "type": "scatter3d"
           }
          ],
          "scattercarpet": [
           {
            "marker": {
             "colorbar": {
              "outlinewidth": 0,
              "ticks": ""
             }
            },
            "type": "scattercarpet"
           }
          ],
          "scattergeo": [
           {
            "marker": {
             "colorbar": {
              "outlinewidth": 0,
              "ticks": ""
             }
            },
            "type": "scattergeo"
           }
          ],
          "scattergl": [
           {
            "marker": {
             "colorbar": {
              "outlinewidth": 0,
              "ticks": ""
             }
            },
            "type": "scattergl"
           }
          ],
          "scattermap": [
           {
            "marker": {
             "colorbar": {
              "outlinewidth": 0,
              "ticks": ""
             }
            },
            "type": "scattermap"
           }
          ],
          "scattermapbox": [
           {
            "marker": {
             "colorbar": {
              "outlinewidth": 0,
              "ticks": ""
             }
            },
            "type": "scattermapbox"
           }
          ],
          "scatterpolar": [
           {
            "marker": {
             "colorbar": {
              "outlinewidth": 0,
              "ticks": ""
             }
            },
            "type": "scatterpolar"
           }
          ],
          "scatterpolargl": [
           {
            "marker": {
             "colorbar": {
              "outlinewidth": 0,
              "ticks": ""
             }
            },
            "type": "scatterpolargl"
           }
          ],
          "scatterternary": [
           {
            "marker": {
             "colorbar": {
              "outlinewidth": 0,
              "ticks": ""
             }
            },
            "type": "scatterternary"
           }
          ],
          "surface": [
           {
            "colorbar": {
             "outlinewidth": 0,
             "ticks": ""
            },
            "colorscale": [
             [
              0,
              "#0d0887"
             ],
             [
              0.1111111111111111,
              "#46039f"
             ],
             [
              0.2222222222222222,
              "#7201a8"
             ],
             [
              0.3333333333333333,
              "#9c179e"
             ],
             [
              0.4444444444444444,
              "#bd3786"
             ],
             [
              0.5555555555555556,
              "#d8576b"
             ],
             [
              0.6666666666666666,
              "#ed7953"
             ],
             [
              0.7777777777777778,
              "#fb9f3a"
             ],
             [
              0.8888888888888888,
              "#fdca26"
             ],
             [
              1,
              "#f0f921"
             ]
            ],
            "type": "surface"
           }
          ],
          "table": [
           {
            "cells": {
             "fill": {
              "color": "#EBF0F8"
             },
             "line": {
              "color": "white"
             }
            },
            "header": {
             "fill": {
              "color": "#C8D4E3"
             },
             "line": {
              "color": "white"
             }
            },
            "type": "table"
           }
          ]
         },
         "layout": {
          "annotationdefaults": {
           "arrowcolor": "#2a3f5f",
           "arrowhead": 0,
           "arrowwidth": 1
          },
          "autotypenumbers": "strict",
          "coloraxis": {
           "colorbar": {
            "outlinewidth": 0,
            "ticks": ""
           }
          },
          "colorscale": {
           "diverging": [
            [
             0,
             "#8e0152"
            ],
            [
             0.1,
             "#c51b7d"
            ],
            [
             0.2,
             "#de77ae"
            ],
            [
             0.3,
             "#f1b6da"
            ],
            [
             0.4,
             "#fde0ef"
            ],
            [
             0.5,
             "#f7f7f7"
            ],
            [
             0.6,
             "#e6f5d0"
            ],
            [
             0.7,
             "#b8e186"
            ],
            [
             0.8,
             "#7fbc41"
            ],
            [
             0.9,
             "#4d9221"
            ],
            [
             1,
             "#276419"
            ]
           ],
           "sequential": [
            [
             0,
             "#0d0887"
            ],
            [
             0.1111111111111111,
             "#46039f"
            ],
            [
             0.2222222222222222,
             "#7201a8"
            ],
            [
             0.3333333333333333,
             "#9c179e"
            ],
            [
             0.4444444444444444,
             "#bd3786"
            ],
            [
             0.5555555555555556,
             "#d8576b"
            ],
            [
             0.6666666666666666,
             "#ed7953"
            ],
            [
             0.7777777777777778,
             "#fb9f3a"
            ],
            [
             0.8888888888888888,
             "#fdca26"
            ],
            [
             1,
             "#f0f921"
            ]
           ],
           "sequentialminus": [
            [
             0,
             "#0d0887"
            ],
            [
             0.1111111111111111,
             "#46039f"
            ],
            [
             0.2222222222222222,
             "#7201a8"
            ],
            [
             0.3333333333333333,
             "#9c179e"
            ],
            [
             0.4444444444444444,
             "#bd3786"
            ],
            [
             0.5555555555555556,
             "#d8576b"
            ],
            [
             0.6666666666666666,
             "#ed7953"
            ],
            [
             0.7777777777777778,
             "#fb9f3a"
            ],
            [
             0.8888888888888888,
             "#fdca26"
            ],
            [
             1,
             "#f0f921"
            ]
           ]
          },
          "colorway": [
           "#636efa",
           "#EF553B",
           "#00cc96",
           "#ab63fa",
           "#FFA15A",
           "#19d3f3",
           "#FF6692",
           "#B6E880",
           "#FF97FF",
           "#FECB52"
          ],
          "font": {
           "color": "#2a3f5f"
          },
          "geo": {
           "bgcolor": "white",
           "lakecolor": "white",
           "landcolor": "#E5ECF6",
           "showlakes": true,
           "showland": true,
           "subunitcolor": "white"
          },
          "hoverlabel": {
           "align": "left"
          },
          "hovermode": "closest",
          "mapbox": {
           "style": "light"
          },
          "paper_bgcolor": "white",
          "plot_bgcolor": "#E5ECF6",
          "polar": {
           "angularaxis": {
            "gridcolor": "white",
            "linecolor": "white",
            "ticks": ""
           },
           "bgcolor": "#E5ECF6",
           "radialaxis": {
            "gridcolor": "white",
            "linecolor": "white",
            "ticks": ""
           }
          },
          "scene": {
           "xaxis": {
            "backgroundcolor": "#E5ECF6",
            "gridcolor": "white",
            "gridwidth": 2,
            "linecolor": "white",
            "showbackground": true,
            "ticks": "",
            "zerolinecolor": "white"
           },
           "yaxis": {
            "backgroundcolor": "#E5ECF6",
            "gridcolor": "white",
            "gridwidth": 2,
            "linecolor": "white",
            "showbackground": true,
            "ticks": "",
            "zerolinecolor": "white"
           },
           "zaxis": {
            "backgroundcolor": "#E5ECF6",
            "gridcolor": "white",
            "gridwidth": 2,
            "linecolor": "white",
            "showbackground": true,
            "ticks": "",
            "zerolinecolor": "white"
           }
          },
          "shapedefaults": {
           "line": {
            "color": "#2a3f5f"
           }
          },
          "ternary": {
           "aaxis": {
            "gridcolor": "white",
            "linecolor": "white",
            "ticks": ""
           },
           "baxis": {
            "gridcolor": "white",
            "linecolor": "white",
            "ticks": ""
           },
           "bgcolor": "#E5ECF6",
           "caxis": {
            "gridcolor": "white",
            "linecolor": "white",
            "ticks": ""
           }
          },
          "title": {
           "x": 0.05
          },
          "xaxis": {
           "automargin": true,
           "gridcolor": "white",
           "linecolor": "white",
           "ticks": "",
           "title": {
            "standoff": 15
           },
           "zerolinecolor": "white",
           "zerolinewidth": 2
          },
          "yaxis": {
           "automargin": true,
           "gridcolor": "white",
           "linecolor": "white",
           "ticks": "",
           "title": {
            "standoff": 15
           },
           "zerolinecolor": "white",
           "zerolinewidth": 2
          }
         }
        },
        "title": {
         "text": "True Function vs Linear Approximation"
        },
        "xaxis": {
         "anchor": "y",
         "domain": [
          0,
          1
         ],
         "title": {
          "text": "x"
         }
        },
        "yaxis": {
         "anchor": "x",
         "domain": [
          0,
          1
         ],
         "title": {
          "text": "truth"
         }
        }
       }
      }
     },
     "metadata": {},
     "output_type": "display_data"
    }
   ],
   "source": [
    "\n",
    "px.line(df, x='x', y='truth', title='True Function vs Linear Approximation')    .add_scatter(x=df['x'], y=df['y_pred_linear'], name='Linear Prediction').show()\n"
   ]
  },
  {
   "cell_type": "markdown",
   "id": "c1eeb785",
   "metadata": {},
   "source": [
    "## 5. Introduce Philosophical Framing\n",
    "All models are wrong, but some are useful (George Box).\n",
    "\n",
    "**Key questions:**\n",
    "- Is it better to have an interpretable but wrong model, or a black-box accurate model?\n",
    "- How do we know when we’ve over-simplified?\n",
    "- Are we fitting data or fitting noise?"
   ]
  },
  {
   "cell_type": "markdown",
   "id": "dfa3eb21",
   "metadata": {},
   "source": [
    "## 6. Next Steps\n",
    "In the next notebook, we’ll formally define and derive the linear regression solution from first principles.\n",
    "You’ll learn where the solution comes from, what assumptions it hides, and how to extend it step-by-step.\n",
    "\n",
    "We’ll also begin working with real-world datasets and understand when and why linear models fall short."
   ]
  }
 ],
 "metadata": {
  "kernelspec": {
   "display_name": ".venv",
   "language": "python",
   "name": "python3"
  },
  "language_info": {
   "codemirror_mode": {
    "name": "ipython",
    "version": 3
   },
   "file_extension": ".py",
   "mimetype": "text/x-python",
   "name": "python",
   "nbconvert_exporter": "python",
   "pygments_lexer": "ipython3",
   "version": "3.10.4"
  }
 },
 "nbformat": 4,
 "nbformat_minor": 5
}
